{
 "cells": [
  {
   "cell_type": "code",
   "execution_count": 1,
   "id": "ae89f5fd-7cf9-4f87-bf26-1b5c2dada632",
   "metadata": {
    "tags": []
   },
   "outputs": [],
   "source": [
    "import numpy as np\n",
    "from datetime import datetime, timedelta\n",
    "import random\n",
    "import matplotlib.pyplot as plt\n",
    "import matplotlib.dates as mdates\n",
    "import pandas as pd\n",
    "from scipy import stats\n"
   ]
  },
  {
   "cell_type": "code",
   "execution_count": 2,
   "id": "675d9210-3b2a-4d91-8659-c1687303b94f",
   "metadata": {
    "tags": []
   },
   "outputs": [],
   "source": [
    "m_start = ('7:45 AM', '8:15 AM')\n",
    "m_stop = ('9:00 AM', '9:30 AM')\n",
    "\n",
    "e_start = ('3:30 PM', '4:00 PM')\n",
    "e_stop = ('4:30 PM', '5:00 PM')"
   ]
  },
  {
   "cell_type": "code",
   "execution_count": 3,
   "id": "7ea15f95-b8d9-4b64-942a-813956115652",
   "metadata": {},
   "outputs": [],
   "source": [
    "#data_format = {\n",
    "    #session_id = #int,\n",
    "    #start_time = #HHMM,\n",
    "    #stop_time = #HHMM,\n",
    "    #rain = #True/False,\n",
    "    #mode = #Car/Transit,\n",
    "    #path = #Freeway/Backway/None,\n",
    "    #lane = #left/middle/right/multi\n",
    "#}"
   ]
  },
  {
   "cell_type": "code",
   "execution_count": 4,
   "id": "3fe08c36-26f0-4b3f-a9b2-c74770d39e9f",
   "metadata": {
    "tags": []
   },
   "outputs": [],
   "source": [
    "def generate_time(start_time_str, end_time_str):\n",
    "    start_time = datetime.strptime(start_time_str, \"%I:%M %p\")\n",
    "    end_time = datetime.strptime(end_time_str, \"%I:%M %p\")\n",
    "    time_range_seconds = int((end_time - start_time).total_seconds())\n",
    "    random_time = start_time + timedelta(seconds=random.randint(0, time_range_seconds))\n",
    "    return random_time\n"
   ]
  },
  {
   "cell_type": "code",
   "execution_count": 5,
   "id": "21a1cc87-89e4-4202-aeb0-85d6cc53dd71",
   "metadata": {},
   "outputs": [],
   "source": [
    "# Function to generate random demographics\n",
    "def random_demographics():\n",
    "    mode_of_transport = random.choice(['Transit', 'Car'])\n",
    "    if mode_of_transport == 'Car':\n",
    "        road_type = random.choice(['Freeway', 'Backroad'])\n",
    "        if road_type == 'Freeway':\n",
    "            lane = random.choice(['Left', 'Center', 'Right', 'Multi-lane'])\n",
    "        else:\n",
    "            lane = None\n",
    "    else:\n",
    "        road_type = None\n",
    "        lane = None\n",
    "    \n",
    "    return {\n",
    "        'mode_of_transport': mode_of_transport,\n",
    "        'road_type': road_type,\n",
    "        'lane': lane\n",
    "    }"
   ]
  },
  {
   "cell_type": "code",
   "execution_count": 6,
   "id": "701149fb-0968-402b-b250-185c969a32dc",
   "metadata": {},
   "outputs": [],
   "source": [
    "\n",
    "def generate_commute_data(\n",
    "    start_range,\n",
    "    stop_range,\n",
    "    num_users=5,\n",
    "    num_days=7\n",
    "):\n",
    "    user_data = []\n",
    "    session_id = 0\n",
    "    \n",
    "    for user_id in range(num_users + 1):\n",
    "        for day in range(num_days + 1):\n",
    "            start = generate_time(start_range[0], start_range[1])\n",
    "            stop = generate_time(stop_range[0], stop_range[1])\n",
    "            \n",
    "            if start > stop:\n",
    "                start, stop = stop, start\n",
    "                \n",
    "            time = 'AM' if start.hour < 12 else 'PM'\n",
    "            rain = random.random() < 0.5\n",
    "            \n",
    "            length = int((stop - start).total_seconds() / 60)            \n",
    "            demographics = random_demographics()\n",
    "            \n",
    "            user_data.append({\n",
    "                # 'session_id': session_id,  # Unique session ID\n",
    "                'user_id': user_id,        # User ID\n",
    "                'day': day,                # Day of commute\n",
    "                'start': start,            # Start time\n",
    "                'stop': stop,              # Stop time\n",
    "                'length':length,           # commute time\n",
    "                'time':time,               # part of day\n",
    "                'rain': rain,              # Rain flag\n",
    "                **demographics             # Unpack demographics\n",
    "            })\n",
    "            \n",
    "            session_id += 1  # Increment session ID for uniqueness\n",
    "    \n",
    "    return user_data\n"
   ]
  },
  {
   "cell_type": "code",
   "execution_count": 7,
   "id": "c55e45de-958a-40dd-b590-70c744c4348a",
   "metadata": {
    "tags": []
   },
   "outputs": [],
   "source": [
    "data = generate_commute_data(m_start, m_stop, 20, 7 )\n",
    "\n",
    "data.extend(generate_commute_data(e_start, e_stop, 20, 7 ))\n"
   ]
  },
  {
   "cell_type": "code",
   "execution_count": 8,
   "id": "d5f7ffab-c4a0-47e9-b1d9-23e236d942d4",
   "metadata": {
    "tags": []
   },
   "outputs": [],
   "source": [
    "df = pd.DataFrame(data)"
   ]
  },
  {
   "cell_type": "code",
   "execution_count": 9,
   "id": "872cf3af-909b-435e-bf3a-79080281afc5",
   "metadata": {},
   "outputs": [
    {
     "name": "stdout",
     "output_type": "stream",
     "text": [
      "{'day': 0, 'm_mean': 75.14285714285714, 'm_CI': 4.770399094358057, 'e_mean': 59.666666666666664, 'e_CI': 4.483916555832479}\n",
      "{'day': 1, 'm_mean': 78.33333333333333, 'm_CI': 5.046983389488675, 'e_mean': 61.57142857142857, 'e_CI': 5.879893337391866}\n",
      "{'day': 2, 'm_mean': 71.19047619047619, 'm_CI': 6.291933126475879, 'e_mean': 57.61904761904762, 'e_CI': 5.529210822930468}\n",
      "{'day': 3, 'm_mean': 75.33333333333333, 'm_CI': 5.8777114652975015, 'e_mean': 58.333333333333336, 'e_CI': 5.0592847890513974}\n",
      "{'day': 4, 'm_mean': 75.57142857142857, 'm_CI': 4.562338008710182, 'e_mean': 56.857142857142854, 'e_CI': 6.083766106996954}\n",
      "{'day': 5, 'm_mean': 73.0952380952381, 'm_CI': 6.362806883369735, 'e_mean': 60.095238095238095, 'e_CI': 5.445056757376525}\n",
      "{'day': 6, 'm_mean': 75.28571428571429, 'm_CI': 6.1613618254693865, 'e_mean': 59.61904761904762, 'e_CI': 5.51795714748304}\n",
      "{'day': 7, 'm_mean': 73.33333333333333, 'm_CI': 6.1835013498454225, 'e_mean': 60.76190476190476, 'e_CI': 5.608145960463188}\n"
     ]
    }
   ],
   "source": [
    "ci_results = []\n",
    "for day in df.day.unique():\n",
    "    data = df[df.day == day]\n",
    "    \n",
    "    m = data[data.time == 'AM']\n",
    "    e = data[data.time == 'PM']\n",
    "    \n",
    "    m_mean = m.length.mean()\n",
    "    e_mean = e.length.mean()\n",
    "    \n",
    "    m_sem = stats.sem(m.length)\n",
    "    e_sem = stats.sem(e.length)\n",
    "    \n",
    "    m_CI = m_sem * stats.t.ppf(0.975, len(m) - 1)\n",
    "    e_CI = e_sem * stats.t.ppf(0.975, len(e) - 1)\n",
    "    \n",
    "    # print(m_CI)\n",
    "    # print(e_CI)\n",
    "    # print('')\n",
    "    ci_results.append({\n",
    "        'day': day,\n",
    "        'm_mean':m_mean,\n",
    "        'm_CI': m_CI,\n",
    "        'e_mean':e_mean,\n",
    "        'e_CI':e_CI\n",
    "    })\n",
    "    \n",
    "for item in ci_results:\n",
    "    print(item)"
   ]
  },
  {
   "cell_type": "code",
   "execution_count": 10,
   "id": "029e8f47-ca86-4a27-b9a2-114b0914fa15",
   "metadata": {
    "tags": []
   },
   "outputs": [
    {
     "data": {
      "text/html": [
       "<div>\n",
       "<style scoped>\n",
       "    .dataframe tbody tr th:only-of-type {\n",
       "        vertical-align: middle;\n",
       "    }\n",
       "\n",
       "    .dataframe tbody tr th {\n",
       "        vertical-align: top;\n",
       "    }\n",
       "\n",
       "    .dataframe thead th {\n",
       "        text-align: right;\n",
       "    }\n",
       "</style>\n",
       "<table border=\"1\" class=\"dataframe\">\n",
       "  <thead>\n",
       "    <tr style=\"text-align: right;\">\n",
       "      <th></th>\n",
       "      <th>day</th>\n",
       "      <th>m_mean</th>\n",
       "      <th>m_CI</th>\n",
       "      <th>e_mean</th>\n",
       "      <th>e_CI</th>\n",
       "    </tr>\n",
       "  </thead>\n",
       "  <tbody>\n",
       "    <tr>\n",
       "      <th>0</th>\n",
       "      <td>0</td>\n",
       "      <td>75.142857</td>\n",
       "      <td>4.770399</td>\n",
       "      <td>59.666667</td>\n",
       "      <td>4.483917</td>\n",
       "    </tr>\n",
       "    <tr>\n",
       "      <th>1</th>\n",
       "      <td>1</td>\n",
       "      <td>78.333333</td>\n",
       "      <td>5.046983</td>\n",
       "      <td>61.571429</td>\n",
       "      <td>5.879893</td>\n",
       "    </tr>\n",
       "    <tr>\n",
       "      <th>2</th>\n",
       "      <td>2</td>\n",
       "      <td>71.190476</td>\n",
       "      <td>6.291933</td>\n",
       "      <td>57.619048</td>\n",
       "      <td>5.529211</td>\n",
       "    </tr>\n",
       "    <tr>\n",
       "      <th>3</th>\n",
       "      <td>3</td>\n",
       "      <td>75.333333</td>\n",
       "      <td>5.877711</td>\n",
       "      <td>58.333333</td>\n",
       "      <td>5.059285</td>\n",
       "    </tr>\n",
       "    <tr>\n",
       "      <th>4</th>\n",
       "      <td>4</td>\n",
       "      <td>75.571429</td>\n",
       "      <td>4.562338</td>\n",
       "      <td>56.857143</td>\n",
       "      <td>6.083766</td>\n",
       "    </tr>\n",
       "    <tr>\n",
       "      <th>5</th>\n",
       "      <td>5</td>\n",
       "      <td>73.095238</td>\n",
       "      <td>6.362807</td>\n",
       "      <td>60.095238</td>\n",
       "      <td>5.445057</td>\n",
       "    </tr>\n",
       "    <tr>\n",
       "      <th>6</th>\n",
       "      <td>6</td>\n",
       "      <td>75.285714</td>\n",
       "      <td>6.161362</td>\n",
       "      <td>59.619048</td>\n",
       "      <td>5.517957</td>\n",
       "    </tr>\n",
       "    <tr>\n",
       "      <th>7</th>\n",
       "      <td>7</td>\n",
       "      <td>73.333333</td>\n",
       "      <td>6.183501</td>\n",
       "      <td>60.761905</td>\n",
       "      <td>5.608146</td>\n",
       "    </tr>\n",
       "  </tbody>\n",
       "</table>\n",
       "</div>"
      ],
      "text/plain": [
       "   day     m_mean      m_CI     e_mean      e_CI\n",
       "0    0  75.142857  4.770399  59.666667  4.483917\n",
       "1    1  78.333333  5.046983  61.571429  5.879893\n",
       "2    2  71.190476  6.291933  57.619048  5.529211\n",
       "3    3  75.333333  5.877711  58.333333  5.059285\n",
       "4    4  75.571429  4.562338  56.857143  6.083766\n",
       "5    5  73.095238  6.362807  60.095238  5.445057\n",
       "6    6  75.285714  6.161362  59.619048  5.517957\n",
       "7    7  73.333333  6.183501  60.761905  5.608146"
      ]
     },
     "execution_count": 10,
     "metadata": {},
     "output_type": "execute_result"
    }
   ],
   "source": [
    "pd.DataFrame(ci_results)"
   ]
  },
  {
   "cell_type": "code",
   "execution_count": null,
   "id": "b7335b32-c8a0-49a6-8e64-a0568dab0e46",
   "metadata": {},
   "outputs": [],
   "source": []
  },
  {
   "cell_type": "code",
   "execution_count": null,
   "id": "3d22f670-cd36-4685-82f4-14798abe2086",
   "metadata": {},
   "outputs": [],
   "source": []
  },
  {
   "cell_type": "code",
   "execution_count": null,
   "id": "9d7b11ef-d920-45fa-83a2-43e5d8d7413e",
   "metadata": {},
   "outputs": [],
   "source": []
  },
  {
   "cell_type": "code",
   "execution_count": null,
   "id": "d23a3669-5f3c-4d0f-8cbe-ba8a488c041f",
   "metadata": {},
   "outputs": [],
   "source": []
  },
  {
   "cell_type": "code",
   "execution_count": null,
   "id": "3011ac1a-1512-4662-9496-6a0b87c3a6d8",
   "metadata": {},
   "outputs": [],
   "source": []
  },
  {
   "cell_type": "code",
   "execution_count": null,
   "id": "d296f802-2c80-4420-8cc4-bf4ece06725c",
   "metadata": {},
   "outputs": [],
   "source": []
  },
  {
   "cell_type": "code",
   "execution_count": 11,
   "id": "366441d4-6668-4592-9c4b-c95468bf6837",
   "metadata": {
    "tags": []
   },
   "outputs": [
    {
     "ename": "NameError",
     "evalue": "name 'generate_user_commute_data' is not defined",
     "output_type": "error",
     "traceback": [
      "\u001b[0;31m---------------------------------------------------------------------------\u001b[0m",
      "\u001b[0;31mNameError\u001b[0m                                 Traceback (most recent call last)",
      "\u001b[0;32m/tmp/ipykernel_166904/965547913.py\u001b[0m in \u001b[0;36m<module>\u001b[0;34m\u001b[0m\n\u001b[1;32m     36\u001b[0m \u001b[0;34m\u001b[0m\u001b[0m\n\u001b[1;32m     37\u001b[0m \u001b[0;31m# Generate data for multiple users over multiple days\u001b[0m\u001b[0;34m\u001b[0m\u001b[0;34m\u001b[0m\u001b[0;34m\u001b[0m\u001b[0m\n\u001b[0;32m---> 38\u001b[0;31m \u001b[0musers_data\u001b[0m \u001b[0;34m=\u001b[0m \u001b[0mgenerate_user_commute_data\u001b[0m\u001b[0;34m(\u001b[0m\u001b[0mnum_users\u001b[0m\u001b[0;34m=\u001b[0m\u001b[0;36m10\u001b[0m\u001b[0;34m,\u001b[0m \u001b[0mnum_days\u001b[0m\u001b[0;34m=\u001b[0m\u001b[0;36m30\u001b[0m\u001b[0;34m)\u001b[0m\u001b[0;34m\u001b[0m\u001b[0;34m\u001b[0m\u001b[0m\n\u001b[0m\u001b[1;32m     39\u001b[0m \u001b[0;34m\u001b[0m\u001b[0m\n\u001b[1;32m     40\u001b[0m \u001b[0;31m# Compute and plot the CI with error bars\u001b[0m\u001b[0;34m\u001b[0m\u001b[0;34m\u001b[0m\u001b[0;34m\u001b[0m\u001b[0m\n",
      "\u001b[0;31mNameError\u001b[0m: name 'generate_user_commute_data' is not defined"
     ]
    }
   ],
   "source": [
    "def compute_ci_and_plot(users_data):\n",
    "    df = pd.DataFrame(users_data)\n",
    "    \n",
    "    # Calculate the total commute time for each day (morning + evening)\n",
    "    df['morning_commute_time'] = (df['morning_end'] - df['morning_start']) / 100\n",
    "    df['evening_commute_time'] = (df['evening_end'] - df['evening_start']) / 100\n",
    "    df['total_commute_time'] = df['morning_commute_time'] + df['evening_commute_time']\n",
    "    \n",
    "    # Group by day and calculate the mean and CI for each day\n",
    "    ci_results = []\n",
    "    for day in df['day'].unique():\n",
    "        day_data = df[df['day'] == day]\n",
    "        mean_commute_time = day_data['total_commute_time'].mean()\n",
    "        sem = stats.sem(day_data['total_commute_time'])  # Standard error of the mean\n",
    "        ci = sem * stats.t.ppf(0.975, len(day_data) - 1)  # 95% Confidence Interval\n",
    "        \n",
    "        ci_results.append({\n",
    "            'day': day,\n",
    "            'mean_commute_time': mean_commute_time,\n",
    "            'ci_lower': mean_commute_time - ci,\n",
    "            'ci_upper': mean_commute_time + ci\n",
    "        })\n",
    "    \n",
    "    # Convert CI results to DataFrame\n",
    "    ci_df = pd.DataFrame(ci_results)\n",
    "    \n",
    "    # Plot with error bars\n",
    "    plt.figure(figsize=(10, 6))\n",
    "    plt.errorbar(ci_df['day'], ci_df['mean_commute_time'], yerr=[ci_df['mean_commute_time'] - ci_df['ci_lower'], ci_df['ci_upper'] - ci_df['mean_commute_time']], fmt='o', color='blue', label='Commute Time')\n",
    "    plt.xlabel('Day')\n",
    "    plt.ylabel('Mean Commute Time (Hours)')\n",
    "    plt.title('Average Commute Time with 95% Confidence Interval')\n",
    "    plt.grid(True)\n",
    "    plt.tight_layout()\n",
    "    plt.show()\n",
    "\n",
    "# Generate data for multiple users over multiple days\n",
    "users_data = generate_user_commute_data(num_users=10, num_days=30)\n",
    "\n",
    "# Compute and plot the CI with error bars\n",
    "compute_ci_and_plot(users_data)\n"
   ]
  }
 ],
 "metadata": {
  "kernelspec": {
   "display_name": "Python 3 (ipykernel)",
   "language": "python",
   "name": "python3"
  },
  "language_info": {
   "codemirror_mode": {
    "name": "ipython",
    "version": 3
   },
   "file_extension": ".py",
   "mimetype": "text/x-python",
   "name": "python",
   "nbconvert_exporter": "python",
   "pygments_lexer": "ipython3",
   "version": "3.7.6"
  }
 },
 "nbformat": 4,
 "nbformat_minor": 5
}
